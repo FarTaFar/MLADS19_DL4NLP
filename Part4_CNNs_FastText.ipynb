{
 "cells": [
  {
   "cell_type": "markdown",
   "metadata": {},
   "source": [
    "# MLADS 2019 - Deep Learning for NLP Applications: Part 4"
   ]
  },
  {
   "cell_type": "markdown",
   "metadata": {},
   "source": [
    "# Using Pretrained FastText Embeddings with CNN's for Text Classification"
   ]
  },
  {
   "cell_type": "code",
   "execution_count": 1,
   "metadata": {},
   "outputs": [
    {
     "name": "stderr",
     "output_type": "stream",
     "text": [
      "Using TensorFlow backend.\n"
     ]
    }
   ],
   "source": [
    "import numpy as np\n",
    "import pandas as pd\n",
    "import seaborn as sns\n",
    "import matplotlib.pyplot as plt\n",
    "\n",
    "import keras\n",
    "from keras import optimizers\n",
    "from keras import backend as K\n",
    "from keras import regularizers\n",
    "from keras.models import Sequential\n",
    "from keras.layers import Dense, Activation, Dropout, Flatten\n",
    "from keras.layers import Embedding, Conv1D, MaxPooling1D, GlobalMaxPooling1D\n",
    "from keras.utils import plot_model\n",
    "from keras.preprocessing import sequence\n",
    "from keras.preprocessing.text import Tokenizer\n",
    "from keras.datasets import imdb"
   ]
  },
  {
   "cell_type": "markdown",
   "metadata": {},
   "source": [
    "### Load and preprocess the data"
   ]
  },
  {
   "cell_type": "code",
   "execution_count": 2,
   "metadata": {},
   "outputs": [
    {
     "name": "stdout",
     "output_type": "stream",
     "text": [
      "Loading data...\n"
     ]
    }
   ],
   "source": [
    "'''\n",
    "Load the data as a list of integers\n",
    "'''\n",
    "\n",
    "maxlen = 400\n",
    "max_features = 5000\n",
    "\n",
    "print('Loading data...')\n",
    "(x_train, y_train), (x_test, y_test) = imdb.load_data(num_words=max_features)\n",
    "x_train = sequence.pad_sequences(x_train, maxlen=maxlen)\n",
    "x_test = sequence.pad_sequences(x_test, maxlen=maxlen)\n"
   ]
  },
  {
   "cell_type": "markdown",
   "metadata": {},
   "source": [
    "### Fast Text Embeddings\n",
    "\n",
    "- We will use pretrained FastText embeddings here (https://dl.fbaipublicfiles.com/fasttext/vectors-english/wiki-news-300d-1M.vec.zip) \n",
    "- Pretrained on Wikipedia Corpus (2017) and the statmt.org news dataset\n",
    "- 300 dimensional embeddings with 1 M word vectors\n",
    "\n",
    "\n",
    "#### The embeddings can be downloaded from https://fasttext.cc/docs/en/english-vectors.html"
   ]
  },
  {
   "cell_type": "markdown",
   "metadata": {},
   "source": [
    "### Embedding Format\n",
    "The first line of the file contains the number of words in the vocabulary and the size of the vectors. Each line contains a word followed by its vectors, like in the default fastText text format. Each value is space separated. Words are ordered by descending frequency. These text models can easily be loaded in Python using the following code:"
   ]
  },
  {
   "cell_type": "code",
   "execution_count": 3,
   "metadata": {},
   "outputs": [
    {
     "name": "stdout",
     "output_type": "stream",
     "text": [
      "loading word embeddings...\n"
     ]
    },
    {
     "name": "stderr",
     "output_type": "stream",
     "text": [
      "999995it [03:10, 5254.61it/s]\n"
     ]
    },
    {
     "name": "stdout",
     "output_type": "stream",
     "text": [
      "found 999995 word vectors\n"
     ]
    }
   ],
   "source": [
    "from tqdm import tqdm\n",
    "import codecs\n",
    "import numpy as np\n",
    "\n",
    "\n",
    "print('loading word embeddings...')\n",
    "embeddings_index = {}\n",
    "f = codecs.open('wiki-news-300d-1M.vec', encoding='utf-8')\n",
    "for line in tqdm(f):\n",
    "    values = line.rstrip().rsplit(' ')\n",
    "    word = values[0]\n",
    "    coefs = np.asarray(values[1:], dtype='float32')\n",
    "    embeddings_index[word] = coefs\n",
    "f.close()\n",
    "print('found %s word vectors' % len(embeddings_index))"
   ]
  },
  {
   "cell_type": "markdown",
   "metadata": {},
   "source": [
    "### Inspect the embeddings"
   ]
  },
  {
   "cell_type": "code",
   "execution_count": 4,
   "metadata": {},
   "outputs": [
    {
     "name": "stdout",
     "output_type": "stream",
     "text": [
      "Cerita ==> [ -4.01000008e-02  -2.67999992e-02  -1.15400001e-01  -7.60999992e-02\n",
      "  -1.66099995e-01   4.34000008e-02  -3.46999988e-02   3.70999984e-02\n",
      "  -1.84100002e-01   1.25499994e-01   1.10999998e-02   9.49999969e-03\n",
      "  -3.51000018e-02  -2.70000007e-03   3.66999991e-02   7.15000033e-02\n",
      "   2.52000000e-02  -1.31200001e-01   1.55999996e-02  -1.29400000e-01\n",
      "  -4.12999988e-02  -1.80099994e-01   3.29999998e-03  -8.89999978e-03\n",
      "   8.54000002e-02  -1.51800007e-01   4.83999997e-02   5.18000014e-02\n",
      "   5.79999983e-02   9.08999965e-02  -1.27200007e-01  -3.57000008e-02\n",
      "   7.00000022e-03  -7.03999996e-02   6.06999993e-02  -6.17000014e-02\n",
      "   9.27999988e-02  -8.34999979e-02  -8.63000005e-02  -1.05200000e-01\n",
      "   1.43999994e-01  -7.10999966e-02  -4.39000018e-02  -1.15300000e-01\n",
      "   1.12999998e-01  -3.37000005e-02   1.48999998e-02  -3.24999988e-02\n",
      "   1.63000003e-02  -1.74000002e-02   1.00800000e-01  -1.16599999e-01\n",
      "  -9.03599977e-01  -5.26000001e-02  -8.26999992e-02   3.18999998e-02\n",
      "   4.30000015e-02   1.10999998e-02   1.09999999e-02  -9.49999969e-03\n",
      "  -4.30000015e-03   6.97000027e-02   1.53300002e-01  -1.61000006e-02\n",
      "   3.90000008e-02   3.29999998e-02   8.42999965e-02   2.65999995e-02\n",
      "   4.38000001e-02   3.40000018e-02   1.45099998e-01  -1.04199998e-01\n",
      "  -6.59999996e-03  -4.89000008e-02  -2.14000009e-02   7.34999999e-02\n",
      "  -1.10999998e-02   3.17000002e-02  -1.15400001e-01  -2.08199993e-01\n",
      "   1.39999995e-03   8.91000032e-02   4.69000004e-02  -8.89999978e-03\n",
      "  -8.92999992e-02   1.95199996e-01  -8.37000012e-02  -5.92000000e-02\n",
      "   3.46999988e-02   5.59999980e-03  -1.90899998e-01  -3.07999998e-02\n",
      "   1.29000004e-02   6.45999983e-02  -5.93000017e-02  -1.16599999e-01\n",
      "  -9.16000009e-02   4.98999991e-02   3.19999992e-03   4.56000008e-02\n",
      "   1.43999998e-02   9.84999985e-02  -2.39600003e-01  -1.42999999e-02\n",
      "   1.49999997e-02   1.08599998e-01  -1.98999997e-02  -2.13799998e-01\n",
      "  -1.36600003e-01  -1.56399995e-01   1.01300001e-01   6.14000000e-02\n",
      "   1.76999997e-02  -2.11999994e-02  -1.09399997e-01   6.10999987e-02\n",
      "  -2.47000009e-02   3.81000005e-02  -1.47599995e-01   3.53999995e-02\n",
      "  -1.01400003e-01   2.84000002e-02  -4.56999987e-02  -1.24799997e-01\n",
      "   2.39000004e-02   1.20999999e-02   3.31000015e-02  -4.39999998e-03\n",
      "  -2.01399997e-01   7.24000037e-02   1.15599997e-01  -2.22999994e-02\n",
      "   1.61000006e-02   5.77000007e-02   6.80000009e-03  -2.65999995e-02\n",
      "   1.68899998e-01  -2.93000005e-02  -1.61599994e-01  -6.06999993e-02\n",
      "   1.19599998e-01  -3.08999997e-02  -1.09999999e-02  -2.39000004e-02\n",
      "   2.42999997e-02   2.77999993e-02  -1.44400001e-01  -4.06000018e-02\n",
      "   1.01800002e-01  -4.41999994e-02  -1.45899996e-01   1.63000003e-02\n",
      "   3.37999985e-02  -6.00000028e-04   7.79999979e-03  -5.22999987e-02\n",
      "   8.21999982e-02  -3.36800009e-01  -8.20000004e-03   6.21000007e-02\n",
      "   1.22299999e-01  -4.56999987e-02  -7.77999982e-02   1.61500007e-01\n",
      "  -1.75000001e-02   2.30000005e-03   7.41999969e-02  -1.04500003e-01\n",
      "  -4.19000015e-02  -1.13700002e-01   3.03000007e-02  -9.62999985e-02\n",
      "  -5.70000010e-03  -6.97999969e-02  -2.41699994e-01   7.89999962e-03\n",
      "   1.42600000e-01  -2.89999992e-02   4.96999994e-02   5.33000007e-02\n",
      "  -1.16300002e-01  -2.77999993e-02  -3.53000015e-02   6.66000023e-02\n",
      "   3.20999995e-02   1.69300005e-01   1.92599997e-01   6.62000030e-02\n",
      "   6.34000003e-02   5.95999993e-02  -3.42000015e-02  -1.57999992e-02\n",
      "   4.06000018e-02   2.94000003e-02   3.06000002e-02  -3.86999995e-02\n",
      "  -3.39000002e-02  -2.64999997e-02  -1.17700003e-01  -6.89999983e-02\n",
      "  -9.07000005e-02  -3.04000005e-02  -5.13000004e-02   5.55000007e-02\n",
      "  -1.42000001e-02   6.00000028e-04  -4.39999998e-03  -3.22999991e-02\n",
      "   8.96999985e-02   2.96999998e-02  -7.94999972e-02  -3.33999991e-02\n",
      "   2.63000000e-02   1.06600001e-01   2.96999998e-02   3.53000015e-02\n",
      "   1.43900007e-01   3.11999992e-02  -7.81999975e-02  -6.74000010e-02\n",
      "  -4.54999991e-02  -4.17999998e-02  -3.42000015e-02   2.20100001e-01\n",
      "  -5.18999994e-02   6.36999980e-02   1.30600005e-01  -6.66999966e-02\n",
      "   1.00000005e-03   1.16300002e-01   6.80000009e-03  -8.50000009e-02\n",
      "  -6.28999993e-02   6.04999997e-02  -5.38999997e-02  -3.70000005e-02\n",
      "   2.09700003e-01   8.16999972e-02  -4.94999997e-02  -4.76999991e-02\n",
      "  -2.30000000e-02  -3.22000012e-02  -3.05000003e-02   4.78000008e-02\n",
      "  -3.99999990e-04   2.86999997e-02  -2.74000000e-02  -5.55000007e-02\n",
      "  -3.40000005e-03  -1.11400001e-01   3.00000014e-04  -3.75999995e-02\n",
      "   5.33999987e-02  -8.64000022e-02  -1.20899998e-01   1.03600003e-01\n",
      "   2.82000005e-02  -3.09999995e-02   6.49000034e-02   3.07000000e-02\n",
      "   2.27000006e-02   1.23599999e-01  -1.66999996e-02   1.20600000e-01\n",
      "  -3.42999995e-01  -1.13399997e-01   3.11999992e-02   1.14000002e-02\n",
      "   1.90899998e-01   1.62000004e-02  -4.96000014e-02   5.40000014e-02\n",
      "   1.20999999e-01   8.38999972e-02  -2.48000007e-02  -8.56999978e-02\n",
      "   1.25100002e-01  -2.48000007e-02   2.67999992e-02   6.23999983e-02\n",
      "   7.60999992e-02  -5.51000014e-02   1.39699996e-01   5.20000011e-02\n",
      "  -2.73000002e-02  -3.55999991e-02   1.27200007e-01   2.86999997e-02\n",
      "   9.51000005e-02  -1.16999997e-02   2.11999994e-02   1.34599999e-01\n",
      "   3.10000009e-03  -1.60600007e-01  -6.15000017e-02  -2.93000005e-02\n",
      "   1.03799999e-01  -2.50499994e-01  -6.58000037e-02   9.07000005e-02]\n",
      "300\n",
      "Kolokotronis ==> [ -1.12099998e-01  -1.50600001e-01   6.43000007e-02  -1.87399998e-01\n",
      "  -2.06799999e-01   1.12800002e-01   6.37999997e-02   4.52999994e-02\n",
      "  -1.11999996e-02  -5.27999997e-02  -9.38000008e-02   5.07999994e-02\n",
      "   4.78999987e-02   6.69999979e-03   8.79999995e-02   9.12000015e-02\n",
      "   5.11000007e-02  -1.00000001e-01   1.12499997e-01  -7.47999996e-02\n",
      "  -3.71800005e-01   2.26999998e-01  -4.03999984e-02  -9.38000008e-02\n",
      "  -1.25000002e-02  -7.29999989e-02   2.55999994e-02   1.79999997e-03\n",
      "  -2.27699995e-01  -5.35999984e-02   2.30900005e-01  -1.99800000e-01\n",
      "  -1.19000003e-02   1.83899999e-01   8.95000026e-02   2.23499998e-01\n",
      "  -1.03100002e-01  -2.92000007e-02  -4.61999997e-02  -1.17799997e-01\n",
      "  -4.98000011e-02   2.38499999e-01  -1.71100006e-01   2.07699999e-01\n",
      "   2.37000007e-02   8.69000033e-02   3.19499999e-01  -1.41499996e-01\n",
      "   2.54999995e-02  -2.23199993e-01   2.48199999e-01  -2.78999992e-02\n",
      "  -9.49299991e-01   5.13000004e-02  -3.13000008e-02  -2.61000004e-02\n",
      "   1.00000005e-03  -1.13399997e-01   5.95000014e-02   4.69999993e-03\n",
      "  -2.16000006e-01  -3.66999991e-02   2.07900003e-01   1.77800000e-01\n",
      "   6.00000028e-04   1.12199999e-01  -5.44000007e-02   7.73999989e-02\n",
      "  -7.36000016e-02   9.20000020e-03   5.73999994e-02  -1.38200000e-01\n",
      "   1.76799998e-01  -2.97899991e-01   1.28800005e-01   1.53000001e-02\n",
      "  -8.06000009e-02   1.05700001e-01  -8.95000026e-02  -1.73000004e-02\n",
      "   1.86000001e-02  -1.07600003e-01   4.21999991e-02  -1.86999999e-02\n",
      "  -4.39999998e-03   8.39999970e-03   8.07000026e-02  -2.16000006e-01\n",
      "  -2.30000005e-03   9.18999985e-02   1.37199998e-01  -1.07199997e-01\n",
      "  -2.49599993e-01  -2.02399999e-01  -1.90500006e-01   7.28999972e-02\n",
      "   1.38799995e-01   6.96000010e-02   5.75000010e-02  -7.94000030e-02\n",
      "   5.81000000e-02  -2.32999995e-02  -6.19999990e-02   1.71399996e-01\n",
      "  -1.42999999e-02  -3.55000012e-02   4.32999991e-02  -5.20000011e-02\n",
      "  -6.59999996e-03   5.18000014e-02   3.90000008e-02  -2.40000011e-03\n",
      "   8.29999968e-02   5.44000007e-02   5.18000014e-02   2.06000004e-02\n",
      "  -2.26300001e-01   8.03999975e-02   1.61899999e-01   1.28199995e-01\n",
      "   2.26099998e-01  -2.62000002e-02   5.00000007e-02  -1.62100002e-01\n",
      "   1.48699999e-01  -1.28500000e-01   3.29000019e-02   1.07100002e-01\n",
      "   2.73999989e-01   1.56800002e-01   9.17000026e-02   8.99999985e-04\n",
      "   2.96000000e-02  -7.62000009e-02  -4.69000004e-02   5.10000018e-03\n",
      "   1.84000004e-02   2.16399997e-01   3.59999994e-03  -3.17000002e-02\n",
      "  -7.63999969e-02  -2.25000009e-02  -3.70000000e-03   1.24399997e-01\n",
      "  -3.25899988e-01  -1.51199996e-01   1.31999999e-01   1.07000005e-02\n",
      "  -8.54000002e-02  -1.65600002e-01   6.37999997e-02  -8.86999965e-02\n",
      "   3.71399999e-01  -5.11000007e-02  -2.07100004e-01  -8.08999985e-02\n",
      "  -1.06200002e-01  -1.07000005e-02   8.79999995e-03   3.31999995e-02\n",
      "  -8.95999968e-02  -4.90000006e-03   4.06000018e-02   1.59500003e-01\n",
      "  -1.29600003e-01   1.57700002e-01  -1.76999997e-02  -5.88999987e-02\n",
      "  -8.08999985e-02   3.44000012e-02   2.96999998e-02   2.75999997e-02\n",
      "   2.84000002e-02   5.77999987e-02   1.24100000e-01   1.93499997e-01\n",
      "   1.36099994e-01   8.86999965e-02   1.18000004e-02   1.22900002e-01\n",
      "  -6.88999966e-02  -1.00999996e-02   1.50299996e-01   1.32300004e-01\n",
      "  -2.53600001e-01   6.36000037e-02  -3.22000012e-02   8.43999982e-02\n",
      "  -2.50699997e-01  -4.52000014e-02   1.50000006e-01  -1.58899993e-01\n",
      "   2.61000004e-02   1.08800001e-01  -1.62699997e-01  -1.78299993e-01\n",
      "   1.98699996e-01   8.20999965e-02  -4.91999984e-02   1.64499998e-01\n",
      "   1.05400003e-01  -3.19999992e-03  -6.56000003e-02   1.24399997e-01\n",
      "   2.09999993e-01   6.01999983e-02   1.13300003e-01  -5.93000017e-02\n",
      "   1.94000006e-02   7.28999972e-02   5.93999997e-02  -1.11999996e-02\n",
      "  -1.14000002e-02   5.71000017e-02  -7.09000006e-02  -1.36600003e-01\n",
      "   1.66299999e-01  -1.10699996e-01   2.52000000e-02   5.00000024e-04\n",
      "   1.33200005e-01  -4.23000008e-02  -5.71999997e-02  -5.70000000e-02\n",
      "   3.59999994e-03   3.31999995e-02   2.46000007e-01  -8.12999979e-02\n",
      "  -5.18999994e-02   1.19000003e-01   3.57199997e-01  -8.43999982e-02\n",
      "   1.99999995e-04  -1.33100003e-01  -4.28000018e-02  -2.07200006e-01\n",
      "  -5.60000017e-02   9.48000029e-02  -2.85999998e-02   1.96400002e-01\n",
      "  -3.99000011e-02   2.05000006e-02   9.13999975e-02   1.09300002e-01\n",
      "   2.61000004e-02   9.32999998e-02   3.99999991e-02   9.61999968e-02\n",
      "   2.07599998e-01  -6.31000027e-02   9.13000032e-02  -2.42999997e-02\n",
      "  -3.70999984e-02   1.36000002e-02  -4.38000001e-02  -1.15699999e-01\n",
      "   6.58000037e-02  -1.01000004e-01   1.48599997e-01  -3.64999995e-02\n",
      "  -2.08000001e-02  -1.53200001e-01   2.41300002e-01  -7.60999992e-02\n",
      "  -2.61200011e-01  -1.27499998e-01   8.82000029e-02  -2.47000009e-02\n",
      "   1.71900004e-01  -1.94600001e-01   1.07900001e-01  -9.36999992e-02\n",
      "   8.79999995e-02   5.49999997e-02  -8.72000009e-02  -1.29000004e-02\n",
      "   3.11999992e-02   2.03299999e-01  -1.49999997e-02  -1.51099995e-01\n",
      "   2.74999999e-02  -5.90000022e-03   1.19099997e-01   1.02499999e-01\n",
      "   2.20799997e-01  -7.85000026e-02  -5.29000014e-02  -1.52600005e-01\n",
      "   5.64999990e-02  -2.39899993e-01   5.82999997e-02  -5.27000017e-02\n",
      "  -3.09999995e-02   1.02700002e-01   2.71000005e-02  -1.56100005e-01\n",
      "  -2.32299998e-01  -6.85999990e-02   4.00000019e-03  -6.44999966e-02]\n",
      "300\n"
     ]
    }
   ],
   "source": [
    "count = 0\n",
    "for key, val in embeddings_index.items():\n",
    "    print(key, \"==>\", val)\n",
    "    print(len(val))\n",
    "    count = count + 1\n",
    "    if (count > 1):\n",
    "        break"
   ]
  },
  {
   "cell_type": "markdown",
   "metadata": {},
   "source": [
    "### Set the parameters for training"
   ]
  },
  {
   "cell_type": "code",
   "execution_count": 12,
   "metadata": {
    "collapsed": true
   },
   "outputs": [],
   "source": [
    "#training params\n",
    "max_features = 5000\n",
    "batch_size = 256 \n",
    "num_epochs = 8 \n",
    "\n",
    "\n",
    "#model parameters\n",
    "num_filters = 64 \n",
    "embed_dim = 300 \n",
    "weight_decay = 1e-4\n",
    "kernel_size=3\n",
    "hidden_dims = 250"
   ]
  },
  {
   "cell_type": "markdown",
   "metadata": {},
   "source": [
    "### Prepare the embedding matrix for the IMDB dataset "
   ]
  },
  {
   "cell_type": "code",
   "execution_count": 6,
   "metadata": {},
   "outputs": [
    {
     "name": "stdout",
     "output_type": "stream",
     "text": [
      "preparing embedding matrix...\n",
      "number of null word embeddings: 106\n"
     ]
    }
   ],
   "source": [
    "#embedding matrix\n",
    "word_index = imdb.get_word_index()\n",
    "print('preparing embedding matrix...')\n",
    "words_not_found = []\n",
    "nb_words = min(max_features, len(word_index))\n",
    "embedding_matrix = np.zeros((nb_words, embed_dim))\n",
    "for word, i in word_index.items():\n",
    "    if i >= nb_words:\n",
    "        continue\n",
    "    embedding_vector = embeddings_index.get(word)\n",
    "    if (embedding_vector is not None) and len(embedding_vector) > 0:\n",
    "        # words not found in embedding index will be all-zeros.\n",
    "        embedding_matrix[i] = embedding_vector\n",
    "    else:\n",
    "        words_not_found.append(word)\n",
    "print('number of null word embeddings: %d' % np.sum(np.sum(embedding_matrix, axis=1) == 0))"
   ]
  },
  {
   "cell_type": "code",
   "execution_count": 7,
   "metadata": {},
   "outputs": [
    {
     "name": "stdout",
     "output_type": "stream",
     "text": [
      "(5000, 300)\n",
      "sample words not found:  [\"won't\" \"90's\" \"show's\" \"it's\" 'branagh' 'lugosi' 'walken' 'carradine'\n",
      " \"children's\" \"80's\" \"won't\" \"hollywood's\" 'carradine' \"1950's\"\n",
      " \"everyone's\" 'lumet' \"year's\" \"they've\" \"i'll\" \"year's\"]\n"
     ]
    }
   ],
   "source": [
    "print(embedding_matrix.shape)\n",
    "print(\"sample words not found: \", np.random.choice(words_not_found, 20))"
   ]
  },
  {
   "cell_type": "markdown",
   "metadata": {},
   "source": [
    "### Define the CNN architecture"
   ]
  },
  {
   "cell_type": "code",
   "execution_count": 16,
   "metadata": {},
   "outputs": [
    {
     "name": "stdout",
     "output_type": "stream",
     "text": [
      "training CNN ...\n",
      "_________________________________________________________________\n",
      "Layer (type)                 Output Shape              Param #   \n",
      "=================================================================\n",
      "embedding_5 (Embedding)      (None, 400, 300)          1500000   \n",
      "_________________________________________________________________\n",
      "conv1d_3 (Conv1D)            (None, 398, 64)           57664     \n",
      "_________________________________________________________________\n",
      "global_max_pooling1d_3 (Glob (None, 64)                0         \n",
      "_________________________________________________________________\n",
      "dense_3 (Dense)              (None, 250)               16250     \n",
      "_________________________________________________________________\n",
      "activation_3 (Activation)    (None, 250)               0         \n",
      "_________________________________________________________________\n",
      "dense_4 (Dense)              (None, 1)                 251       \n",
      "_________________________________________________________________\n",
      "activation_4 (Activation)    (None, 1)                 0         \n",
      "=================================================================\n",
      "Total params: 1,574,165\n",
      "Trainable params: 74,165\n",
      "Non-trainable params: 1,500,000\n",
      "_________________________________________________________________\n"
     ]
    }
   ],
   "source": [
    "#CNN architecture\n",
    "print(\"training CNN ...\")\n",
    "model = Sequential()\n",
    "\n",
    "# specify that we are freezing the embedding layer\n",
    "model.add(Embedding(nb_words, embed_dim,\n",
    "          weights=[embedding_matrix], input_length=maxlen, trainable=False))\n",
    "\n",
    "# we add a Convolution1D, which will learn filters\n",
    "# word group filters of size filter_length:\n",
    "model.add(Conv1D(num_filters,\n",
    "                 kernel_size,\n",
    "                 padding='valid',\n",
    "                 activation='relu',\n",
    "                 strides=1))\n",
    "# we use max pooling:\n",
    "model.add(GlobalMaxPooling1D())\n",
    "\n",
    "# We add a vanilla hidden layer:\n",
    "model.add(Dense(hidden_dims))\n",
    "\n",
    "model.add(Activation('relu'))\n",
    "\n",
    "# We project onto a single unit output layer, and squash it with a sigmoid:\n",
    "model.add(Dense(1))\n",
    "model.add(Activation('sigmoid'))\n",
    "\n",
    "adam = optimizers.Adam(lr=0.001, beta_1=0.9, beta_2=0.999, epsilon=1e-08, decay=0.0)\n",
    "model.compile(loss='binary_crossentropy', optimizer=adam, metrics=['accuracy'])\n",
    "model.summary()"
   ]
  },
  {
   "cell_type": "markdown",
   "metadata": {},
   "source": [
    "### Train the model"
   ]
  },
  {
   "cell_type": "code",
   "execution_count": 17,
   "metadata": {},
   "outputs": [
    {
     "name": "stdout",
     "output_type": "stream",
     "text": [
      "Train on 25000 samples, validate on 25000 samples\n",
      "Epoch 1/8\n",
      "25000/25000 [==============================] - 2s 91us/step - loss: 0.6288 - acc: 0.6502 - val_loss: 0.4735 - val_acc: 0.7800\n",
      "Epoch 2/8\n",
      "25000/25000 [==============================] - 2s 70us/step - loss: 0.3963 - acc: 0.8245 - val_loss: 0.3743 - val_acc: 0.8322\n",
      "Epoch 3/8\n",
      "25000/25000 [==============================] - 2s 68us/step - loss: 0.2963 - acc: 0.8765 - val_loss: 0.3867 - val_acc: 0.8257\n",
      "Epoch 4/8\n",
      "25000/25000 [==============================] - 2s 68us/step - loss: 0.2344 - acc: 0.9089 - val_loss: 0.3750 - val_acc: 0.8371\n",
      "Epoch 5/8\n",
      "25000/25000 [==============================] - 2s 70us/step - loss: 0.1887 - acc: 0.9312 - val_loss: 0.3467 - val_acc: 0.8516\n",
      "Epoch 6/8\n",
      "25000/25000 [==============================] - 2s 71us/step - loss: 0.1403 - acc: 0.9560 - val_loss: 0.3558 - val_acc: 0.8527\n",
      "Epoch 7/8\n",
      "25000/25000 [==============================] - 2s 71us/step - loss: 0.1022 - acc: 0.9717 - val_loss: 0.4064 - val_acc: 0.8414\n",
      "Epoch 8/8\n",
      "25000/25000 [==============================] - 2s 71us/step - loss: 0.0748 - acc: 0.9835 - val_loss: 0.4061 - val_acc: 0.8508\n"
     ]
    }
   ],
   "source": [
    "history = model.fit(x_train, y_train,\n",
    "          batch_size=batch_size,\n",
    "          epochs=num_epochs,\n",
    "          validation_data=(x_test, y_test))"
   ]
  },
  {
   "cell_type": "code",
   "execution_count": 18,
   "metadata": {},
   "outputs": [
    {
     "data": {
      "image/png": "[encoded data removed]",
      "text/plain": [
       "<Figure size 600x400 with 1 Axes>"
      ]
     },
     "metadata": {},
     "output_type": "display_data"
    }
   ],
   "source": [
    "%matplotlib inline\n",
    "history_dict = history.history\n",
    "\n",
    "acc_values = history_dict['acc']\n",
    "val_acc_values = history_dict['val_acc']\n",
    "\n",
    "epochs = range(1, len(acc_values) + 1)\n",
    "\n",
    "plt.plot(epochs, acc_values, 'bo', label='Training acc')\n",
    "plt.plot(epochs, val_acc_values, 'b', label='Validation acc')\n",
    "plt.title('Training and Validation Accuracy')\n",
    "plt.xlabel('epochs')\n",
    "plt.ylabel('Accuracy')\n",
    "plt.legend()\n",
    "\n",
    "plt.show()"
   ]
  },
  {
   "cell_type": "code",
   "execution_count": 20,
   "metadata": {},
   "outputs": [
    {
     "name": "stdout",
     "output_type": "stream",
     "text": [
      "25000/25000 [==============================] - 2s 81us/step\n"
     ]
    },
    {
     "data": {
      "text/plain": [
       "[0.40613121783256528, 0.85084000000000004]"
      ]
     },
     "execution_count": 20,
     "metadata": {},
     "output_type": "execute_result"
    }
   ],
   "source": [
    "results = model.evaluate(x_test, y_test)\n",
    "results"
   ]
  }
 ],
 "metadata": {
  "anaconda-cloud": {},
  "kernelspec": {
   "display_name": "Python 3",
   "language": "python",
   "name": "python3"
  },
  "language_info": {
   "codemirror_mode": {
    "name": "ipython",
    "version": 3
   },
   "file_extension": ".py",
   "mimetype": "text/x-python",
   "name": "python",
   "nbconvert_exporter": "python",
   "pygments_lexer": "ipython3",
   "version": "3.7.3"
  }
 },
 "nbformat": 4,
 "nbformat_minor": 1
}
